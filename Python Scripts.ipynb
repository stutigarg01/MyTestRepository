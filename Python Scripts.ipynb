{
 "cells": [
  {
   "cell_type": "code",
   "execution_count": 7,
   "id": "e09d6c3d-5052-4c70-ba80-ff7ac8cb2e77",
   "metadata": {},
   "outputs": [],
   "source": [
    "# import numpy as np\n",
    "import numpy as np\n",
    "\n",
    "# import pandas \n",
    "import pandas as pd\n",
    "\n",
    "# import seaborn \n",
    "import seaborn as sns\n",
    "\n",
    "# import matplotlib\n",
    "import matplotlib.pyplot as plt"
   ]
  },
  {
   "cell_type": "markdown",
   "id": "122437c2-5e87-4aa5-9682-b72670bac0f5",
   "metadata": {},
   "source": [
    "# data structures"
   ]
  },
  {
   "cell_type": "markdown",
   "id": "1c325219-1b73-4b89-8a5d-4b867b73bb4b",
   "metadata": {},
   "source": [
    "## Basic Datatype"
   ]
  },
  {
   "cell_type": "markdown",
   "id": "e5859b6d-5e6e-4c87-a4bf-eb6f306d47cf",
   "metadata": {},
   "source": [
    "### List"
   ]
  },
  {
   "cell_type": "code",
   "execution_count": 8,
   "id": "9ea43764-0c78-4d63-97ae-5d1c2f1e8754",
   "metadata": {},
   "outputs": [],
   "source": [
    "# Create a list \n",
    "l1 = [2,4,6,8,10]"
   ]
  },
  {
   "cell_type": "code",
   "execution_count": 9,
   "id": "49c43224-31ff-4707-92e6-97b1162cd195",
   "metadata": {},
   "outputs": [],
   "source": [
    "l2 = ['a','b','c']"
   ]
  },
  {
   "cell_type": "markdown",
   "id": "a1855fa3-2fb6-47e5-aac8-499df282b850",
   "metadata": {},
   "source": [
    "### Dictionary"
   ]
  },
  {
   "cell_type": "code",
   "execution_count": 11,
   "id": "5bb2e7f8-1db6-4f7f-b0ea-cf5590e88ec1",
   "metadata": {},
   "outputs": [],
   "source": [
    "# Create a dictionary\n",
    "d1 = {'name': ['stuti','kashish','Rahul'],\n",
    "     'marks': [80,70,95],\n",
    "      'ages':[35,40,45]\n",
    "     }"
   ]
  },
  {
   "cell_type": "markdown",
   "id": "7db989f9-8d4f-42b5-9d75-cfc8f9bede68",
   "metadata": {},
   "source": [
    "### Data Frame"
   ]
  },
  {
   "cell_type": "code",
   "execution_count": 12,
   "id": "502b2627-8a68-4eab-aa6a-a9e635e1927b",
   "metadata": {},
   "outputs": [],
   "source": [
    "df_dummy = pd.DataFrame(d1)"
   ]
  },
  {
   "cell_type": "code",
   "execution_count": 13,
   "id": "8cea6f4c-8476-4ff9-90b7-b6dc23ae8454",
   "metadata": {},
   "outputs": [
    {
     "data": {
      "text/html": [
       "<div>\n",
       "<style scoped>\n",
       "    .dataframe tbody tr th:only-of-type {\n",
       "        vertical-align: middle;\n",
       "    }\n",
       "\n",
       "    .dataframe tbody tr th {\n",
       "        vertical-align: top;\n",
       "    }\n",
       "\n",
       "    .dataframe thead th {\n",
       "        text-align: right;\n",
       "    }\n",
       "</style>\n",
       "<table border=\"1\" class=\"dataframe\">\n",
       "  <thead>\n",
       "    <tr style=\"text-align: right;\">\n",
       "      <th></th>\n",
       "      <th>name</th>\n",
       "      <th>marks</th>\n",
       "      <th>ages</th>\n",
       "    </tr>\n",
       "  </thead>\n",
       "  <tbody>\n",
       "    <tr>\n",
       "      <th>0</th>\n",
       "      <td>stuti</td>\n",
       "      <td>80</td>\n",
       "      <td>35</td>\n",
       "    </tr>\n",
       "    <tr>\n",
       "      <th>1</th>\n",
       "      <td>kashish</td>\n",
       "      <td>70</td>\n",
       "      <td>40</td>\n",
       "    </tr>\n",
       "    <tr>\n",
       "      <th>2</th>\n",
       "      <td>Rahul</td>\n",
       "      <td>95</td>\n",
       "      <td>45</td>\n",
       "    </tr>\n",
       "  </tbody>\n",
       "</table>\n",
       "</div>"
      ],
      "text/plain": [
       "      name  marks  ages\n",
       "0    stuti     80    35\n",
       "1  kashish     70    40\n",
       "2    Rahul     95    45"
      ]
     },
     "execution_count": 13,
     "metadata": {},
     "output_type": "execute_result"
    }
   ],
   "source": [
    "df_dummy"
   ]
  },
  {
   "cell_type": "markdown",
   "id": "6cc473ac-3f3b-4c84-aa29-c89c6242681b",
   "metadata": {},
   "source": [
    "### Series"
   ]
  },
  {
   "cell_type": "code",
   "execution_count": 14,
   "id": "9c775155-5af4-4ad5-b1e5-7d591a1567d9",
   "metadata": {},
   "outputs": [],
   "source": [
    "# create a series\n",
    "series_1 = pd.Series(l1)"
   ]
  },
  {
   "cell_type": "code",
   "execution_count": 15,
   "id": "45384ebb-64b9-4ec0-be00-57a7c906ce85",
   "metadata": {},
   "outputs": [
    {
     "data": {
      "text/plain": [
       "0     2\n",
       "1     4\n",
       "2     6\n",
       "3     8\n",
       "4    10\n",
       "dtype: int64"
      ]
     },
     "execution_count": 15,
     "metadata": {},
     "output_type": "execute_result"
    }
   ],
   "source": [
    "series_1"
   ]
  },
  {
   "cell_type": "code",
   "execution_count": null,
   "id": "343f74b5-5af5-49ca-9aec-098d086d8960",
   "metadata": {},
   "outputs": [],
   "source": []
  }
 ],
 "metadata": {
  "kernelspec": {
   "display_name": "Python 3 (ipykernel)",
   "language": "python",
   "name": "python3"
  },
  "language_info": {
   "codemirror_mode": {
    "name": "ipython",
    "version": 3
   },
   "file_extension": ".py",
   "mimetype": "text/x-python",
   "name": "python",
   "nbconvert_exporter": "python",
   "pygments_lexer": "ipython3",
   "version": "3.12.4"
  }
 },
 "nbformat": 4,
 "nbformat_minor": 5
}
